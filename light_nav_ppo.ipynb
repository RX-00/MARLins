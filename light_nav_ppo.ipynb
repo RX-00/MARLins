{
 "cells": [
  {
   "cell_type": "markdown",
   "metadata": {},
   "source": [
    "### Create environment"
   ]
  },
  {
   "cell_type": "code",
   "execution_count": 1,
   "metadata": {},
   "outputs": [
    {
     "name": "stderr",
     "output_type": "stream",
     "text": [
      "<frozen importlib._bootstrap>:488: RuntimeWarning: Your system is avx2 capable but pygame was not built with support for it. The performance of some of your blits could be adversely affected. Consider enabling compile time detection with environment variables like PYGAME_DETECT_AVX2=1 if you are compiling without cross compilation.\n"
     ]
    }
   ],
   "source": [
    "import gymnasium as gym\n",
    "import numpy as np\n",
    "from gymnasium import spaces\n",
    "from stable_baselines3.common.env_checker import check_env\n",
    "\n",
    "from stable_baselines3 import PPO\n",
    "from stable_baselines3.common.env_util import make_vec_env\n",
    "\n",
    "import gym_kilobots\n",
    "\n",
    "import pygame\n",
    "import sys"
   ]
  },
  {
   "cell_type": "code",
   "execution_count": 2,
   "metadata": {},
   "outputs": [],
   "source": [
    "# Define four objects in a centered square\n",
    "square_objects = [\n",
    "    ((-0.25,  0.25), 0.0),   # top-left\n",
    "    (( 0.25,  0.25), 0.0),   # top-right\n",
    "    (( 0.25, -0.25), 0.0),   # bottom-right\n",
    "    ((-0.25, -0.25), 0.0),   # bottom-left\n",
    "]\n",
    "\n",
    "# Define 1 object in the center of the environment\n",
    "single_center_object = [\n",
    "    ((0.0, 0.0), 0.0)        # center,\n",
    "]\n",
    "\n",
    "# Choose a fixed light position\n",
    "light_pos = (-0.7, 0.1)\n",
    "\n",
    "# Choose four explicit kilobot positions\n",
    "kb_positions = [\n",
    "        (-0.70, 0.10),\n",
    "        (-0.70, 0.10),\n",
    "        (-0.75, 0.10),\n",
    "        (-0.75, 0.10),\n",
    "    ]\n",
    "\n",
    "# NOTE: if you don't do this, the environment will randomly place the objects\n",
    "env = gym.make(\n",
    "    'Kilobots-QuadAssembly-v0',\n",
    "    render_mode='human',\n",
    "    num_kilobots=len(kb_positions),\n",
    "    object_config=single_center_object,\n",
    "    light_position=light_pos,\n",
    "    kilobot_positions=kb_positions\n",
    ")\n"
   ]
  },
  {
   "cell_type": "code",
   "execution_count": null,
   "metadata": {},
   "outputs": [],
   "source": [
    "check_env(env,warn=True)"
   ]
  },
  {
   "cell_type": "code",
   "execution_count": null,
   "metadata": {},
   "outputs": [],
   "source": [
    "#vec_env = make_vec_env(env, n_envs = 1)\n",
    "\n",
    "# Train the agent\n",
    "model = PPO(\"MlpPolicy\", env, verbose=1)\n",
    "model.learn(total_timesteps=300000)\n",
    "model.save(\"swarm_ppo\")"
   ]
  },
  {
   "cell_type": "code",
   "execution_count": null,
   "metadata": {},
   "outputs": [
    {
     "name": "stdout",
     "output_type": "stream",
     "text": [
      "Reward:  9.328973258579012e-06\n",
      "Reward:  3.975471442754823e-05\n",
      "Reward:  0.00015355225297319905\n",
      "Reward:  0.0005408034064356965\n",
      "Reward:  0.0017227448246373849\n",
      "Reward:  0.004992107906993778\n",
      "Reward:  0.012951495043866078\n",
      "Reward:  0.03084168447147831\n",
      "Reward:  0.06571849057884599\n",
      "Reward:  0.12615644502974305\n",
      "Reward:  0.21977184081652418\n",
      "Reward:  0.3713566250689133\n",
      "Reward:  0.5665955425654441\n",
      "Reward:  0.7652439274695844\n",
      "Reward:  0.9222714134150923\n",
      "Reward:  0.9901293495624147\n",
      "Reward:  0.9989038384106471\n",
      "Reward:  0.9996411877909\n",
      "Reward:  0.9994799806261401\n",
      "Reward:  0.9998057436286685\n",
      "Reward:  0.9999769295123552\n",
      "Reward:  0.9998817937462947\n",
      "Reward:  0.9996702539361644\n",
      "Reward:  0.9997631635622215\n",
      "Reward:  0.9997076392653914\n",
      "Reward:  0.9995951146668537\n",
      "Reward:  0.9994679522106874\n",
      "Reward:  0.9996779363178306\n",
      "Reward:  0.999513633263522\n",
      "Reward:  0.9997465159504795\n",
      "Reward:  0.9999532690543619\n",
      "Reward:  0.99977016887087\n",
      "Reward:  0.9999562437990187\n",
      "Reward:  0.9996079509755657\n",
      "Reward:  0.9999247160563377\n",
      "Reward:  0.9998436291309611\n",
      "Reward:  0.9997262080937336\n",
      "Reward:  0.9998240517538286\n",
      "Reward:  0.9995431686312012\n",
      "Reward:  0.9996341945295111\n",
      "Reward:  0.9999043295197081\n",
      "Reward:  0.9997092689566834\n",
      "Reward:  0.9990665807914639\n",
      "Reward:  0.9996159861335869\n",
      "Reward:  0.9997113285532154\n",
      "Reward:  0.9995613010421113\n",
      "Reward:  0.9992025206609131\n",
      "Reward:  0.9993398072204388\n",
      "Reward:  0.9995160809157801\n",
      "Reward:  0.9999179960374697\n"
     ]
    },
    {
     "ename": "",
     "evalue": "",
     "output_type": "error",
     "traceback": [
      "\u001b[1;31mThe Kernel crashed while executing code in the current cell or a previous cell. \n",
      "\u001b[1;31mPlease review the code in the cell(s) to identify a possible cause of the failure. \n",
      "\u001b[1;31mClick <a href='https://aka.ms/vscodeJupyterKernelCrash'>here</a> for more info. \n",
      "\u001b[1;31mView Jupyter <a href='command:jupyter.viewOutput'>log</a> for further details."
     ]
    }
   ],
   "source": [
    "model = PPO.load(\"swarm_ppo\")\n",
    "\n",
    "def controller(x):\n",
    "      action,states = model.predict(x)\n",
    "      return action\n",
    "\n",
    "running = True\n",
    "obs, info = env.reset()\n",
    "\n",
    "t = 0\n",
    "\n",
    "\n",
    "while t <= 100:\n",
    "\n",
    "      env.render()\n",
    "\n",
    "      x = obs\n",
    "      action = controller(x)\n",
    "      obs, reward, terminated, truncated, info = env.step(action)\n",
    "\n",
    "      print('Reward: ', reward)\n",
    "\n",
    "      # Print the orientation of the objects using the unwrapped environment\n",
    "      #print(env.unwrapped.get_objects_status())\n",
    "\n",
    "      # End episode\n",
    "      if terminated or truncated:\n",
    "            break\n",
    "\n",
    "      t += 1\n",
    "      \n",
    "env.close()  # Ensure the environment is properly closed\n",
    "pygame.display.quit\n",
    "pygame.quit()\n"
   ]
  }
 ],
 "metadata": {
  "kernelspec": {
   "display_name": "swarm",
   "language": "python",
   "name": "python3"
  },
  "language_info": {
   "codemirror_mode": {
    "name": "ipython",
    "version": 3
   },
   "file_extension": ".py",
   "mimetype": "text/x-python",
   "name": "python",
   "nbconvert_exporter": "python",
   "pygments_lexer": "ipython3",
   "version": "3.13.3"
  }
 },
 "nbformat": 4,
 "nbformat_minor": 2
}
